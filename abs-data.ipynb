{
 "cells": [
  {
   "cell_type": "code",
   "execution_count": null,
   "source": [
    "%matplotlib inline\n",
    "\n",
    "from helpers import parse_abs_data, parse_sale_data\n",
    "import requests\n",
    "import pandas as pd\n",
    "\n",
    "import pymongo\n",
    "from pymongo import MongoClient\n",
    "\n",
    "import matplotlib\n",
    "import matplotlib.pyplot as plt\n",
    "\n",
    "plt.style.use('ggplot')\n",
    "\n",
    "client = MongoClient()\n",
    "db = client.absDB\n",
    "meebits_collection = db.absCollection\n",
    "sales_collection = db.salesCollection\n",
    "\n",
    "url = \"https://api.opensea.io/api/v1/assets\"\n",
    "\n",
    "for i in range(0, 500):\n",
    "    querystring = {\"token_ids\":list(range((i*50)+1, (i*50)+51)),\n",
    "                   \"asset_contract_address\":\"0x7Bd29408f11D2bFC23c34f18275bBf23bB716Bc7\",\n",
    "                   \"order_direction\":\"desc\",\n",
    "                   \"offset\":\"0\",\n",
    "                   \"limit\":\"50\"}\n",
    "    response = requests.request(\"GET\", url, params=querystring)\n",
    "    \n",
    "    print(i, end=\" \")\n",
    "    if response.status_code != 200:\n",
    "        print('error')\n",
    "        break\n",
    "    \n",
    "    #Getting ABS data\n",
    "    absquad = response.json()['assets']\n",
    "    #Parsing abs data\n",
    "    parsed_abs = [parse_abs_data(abs) for abs in absquad]\n",
    "    #storing parsed abs data into MongoDB\n",
    "    abs_collection.insert_many(parsed_abs)"
   ],
   "outputs": [],
   "metadata": {}
  }
 ],
 "metadata": {
  "orig_nbformat": 4,
  "language_info": {
   "name": "python"
  }
 },
 "nbformat": 4,
 "nbformat_minor": 2
}